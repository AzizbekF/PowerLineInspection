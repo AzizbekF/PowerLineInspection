{
 "cells": [
  {
   "cell_type": "code",
   "id": "initial_id",
   "metadata": {
    "collapsed": true,
    "ExecuteTime": {
     "end_time": "2025-05-15T12:15:22.850774Z",
     "start_time": "2025-05-15T12:15:22.567266Z"
    }
   },
   "source": "import pandas as pd",
   "outputs": [],
   "execution_count": 1
  },
  {
   "metadata": {
    "ExecuteTime": {
     "end_time": "2025-05-12T10:24:55.648491Z",
     "start_time": "2025-05-12T10:24:55.637213Z"
    }
   },
   "cell_type": "code",
   "source": "d = pd.read_csv ('/Users/azizbek/Documents/Projects/PowerLine/data/InsPLAD-fault/defect_supervised/glass-insulator/annotations/image_list_val.txt')",
   "id": "cae51106ba4d67d4",
   "outputs": [],
   "execution_count": 5
  },
  {
   "metadata": {
    "ExecuteTime": {
     "end_time": "2025-05-12T10:24:56.640818Z",
     "start_time": "2025-05-12T10:24:56.632955Z"
    }
   },
   "cell_type": "code",
   "source": "d.head()",
   "id": "c655fe1ff990460b",
   "outputs": [
    {
     "data": {
      "text/plain": [
       "                                       name category\n",
       "0  missing-cap/Fotos 03-12-2020_DJI_0326_cadeia_i...\n",
       "1  missing-cap/Fotos 03-12-2020_DJI_0334_cadeia_i...\n",
       "2  missing-cap/Fotos 03-12-2020_DJI_0361_cadeia_i...\n",
       "3  missing-cap/Fotos 03-12-2020_DJI_0363_cadeia_i...\n",
       "4  missing-cap/Fotos 03-12-2020_DJI_0364_cadeia_i..."
      ],
      "text/html": [
       "<div>\n",
       "<style scoped>\n",
       "    .dataframe tbody tr th:only-of-type {\n",
       "        vertical-align: middle;\n",
       "    }\n",
       "\n",
       "    .dataframe tbody tr th {\n",
       "        vertical-align: top;\n",
       "    }\n",
       "\n",
       "    .dataframe thead th {\n",
       "        text-align: right;\n",
       "    }\n",
       "</style>\n",
       "<table border=\"1\" class=\"dataframe\">\n",
       "  <thead>\n",
       "    <tr style=\"text-align: right;\">\n",
       "      <th></th>\n",
       "      <th>name category</th>\n",
       "    </tr>\n",
       "  </thead>\n",
       "  <tbody>\n",
       "    <tr>\n",
       "      <th>0</th>\n",
       "      <td>missing-cap/Fotos 03-12-2020_DJI_0326_cadeia_i...</td>\n",
       "    </tr>\n",
       "    <tr>\n",
       "      <th>1</th>\n",
       "      <td>missing-cap/Fotos 03-12-2020_DJI_0334_cadeia_i...</td>\n",
       "    </tr>\n",
       "    <tr>\n",
       "      <th>2</th>\n",
       "      <td>missing-cap/Fotos 03-12-2020_DJI_0361_cadeia_i...</td>\n",
       "    </tr>\n",
       "    <tr>\n",
       "      <th>3</th>\n",
       "      <td>missing-cap/Fotos 03-12-2020_DJI_0363_cadeia_i...</td>\n",
       "    </tr>\n",
       "    <tr>\n",
       "      <th>4</th>\n",
       "      <td>missing-cap/Fotos 03-12-2020_DJI_0364_cadeia_i...</td>\n",
       "    </tr>\n",
       "  </tbody>\n",
       "</table>\n",
       "</div>"
      ]
     },
     "execution_count": 6,
     "metadata": {},
     "output_type": "execute_result"
    }
   ],
   "execution_count": 6
  },
  {
   "metadata": {
    "ExecuteTime": {
     "end_time": "2025-05-12T10:25:06.003720Z",
     "start_time": "2025-05-12T10:25:05.996638Z"
    }
   },
   "cell_type": "code",
   "source": "print(d.columns)",
   "id": "26f9c118613f8d94",
   "outputs": [
    {
     "name": "stdout",
     "output_type": "stream",
     "text": [
      "Index(['name category'], dtype='object')\n"
     ]
    }
   ],
   "execution_count": 7
  },
  {
   "metadata": {
    "ExecuteTime": {
     "end_time": "2025-05-12T10:42:46.138838Z",
     "start_time": "2025-05-12T10:34:31.978477Z"
    }
   },
   "cell_type": "code",
   "source": [
    "import torch\n",
    "import torch.nn as nn\n",
    "from torchvision import datasets, transforms, models\n",
    "from torch.utils.data import DataLoader\n",
    "import os\n",
    "\n",
    "# === Config ===\n",
    "DATA_DIR = \"/Users/azizbek/Documents/Projects/PowerLine/data/InsPLAD-fault/defect_supervised/glass-insulator/train\"\n",
    "BATCH_SIZE = 8\n",
    "NUM_EPOCHS = 20\n",
    "IMAGE_SIZE = 224\n",
    "DEVICE = torch.device(\"mps\" if torch.backends.mps.is_available() else\n",
    "                      \"cuda\" if torch.cuda.is_available() else \"cpu\")\n",
    "\n",
    "# === Data Loading ===\n",
    "transform = transforms.Compose([\n",
    "    transforms.Resize((IMAGE_SIZE, IMAGE_SIZE)),\n",
    "    transforms.ToTensor()\n",
    "])\n",
    "\n",
    "dataset = datasets.ImageFolder(DATA_DIR, transform=transform)\n",
    "dataloader = DataLoader(dataset, batch_size=BATCH_SIZE, shuffle=True)\n",
    "\n",
    "# === Model ===\n",
    "model = models.resnet18(pretrained=True)\n",
    "model.fc = nn.Linear(model.fc.in_features, 2)  # Binary classifier\n",
    "model = model.to(DEVICE)\n",
    "\n",
    "# === Loss & Optimizer ===\n",
    "criterion = nn.CrossEntropyLoss()\n",
    "optimizer = torch.optim.Adam(model.parameters(), lr=1e-4)\n",
    "\n",
    "# === Training Loop ===\n",
    "for epoch in range(NUM_EPOCHS):\n",
    "    total_loss = 0\n",
    "    model.train()\n",
    "    for imgs, labels in dataloader:\n",
    "        imgs, labels = imgs.to(DEVICE), labels.to(DEVICE)\n",
    "\n",
    "        outputs = model(imgs)\n",
    "        loss = criterion(outputs, labels)\n",
    "\n",
    "        optimizer.zero_grad()\n",
    "        loss.backward()\n",
    "        optimizer.step()\n",
    "\n",
    "        total_loss += loss.item()\n",
    "\n",
    "    print(f\"Epoch {epoch+1}/{NUM_EPOCHS}, Loss: {total_loss:.4f}\")\n",
    "\n",
    "# === Class Mapping ===\n",
    "print(\"Class to index mapping:\", dataset.class_to_idx)"
   ],
   "id": "9b867be51c2611b7",
   "outputs": [
    {
     "name": "stderr",
     "output_type": "stream",
     "text": [
      "/Users/azizbek/anaconda3/lib/python3.11/site-packages/torchvision/models/_utils.py:208: UserWarning: The parameter 'pretrained' is deprecated since 0.13 and may be removed in the future, please use 'weights' instead.\n",
      "  warnings.warn(\n",
      "/Users/azizbek/anaconda3/lib/python3.11/site-packages/torchvision/models/_utils.py:223: UserWarning: Arguments other than a weight enum or `None` for 'weights' are deprecated since 0.13 and may be removed in the future. The current behavior is equivalent to passing `weights=ResNet18_Weights.IMAGENET1K_V1`. You can also use `weights=ResNet18_Weights.DEFAULT` to get the most up-to-date weights.\n",
      "  warnings.warn(msg)\n"
     ]
    },
    {
     "name": "stdout",
     "output_type": "stream",
     "text": [
      "Epoch 1/20, Loss: 35.2291\n",
      "Epoch 2/20, Loss: 19.6432\n",
      "Epoch 3/20, Loss: 8.0424\n",
      "Epoch 4/20, Loss: 7.1335\n",
      "Epoch 5/20, Loss: 5.5688\n",
      "Epoch 6/20, Loss: 4.8206\n",
      "Epoch 7/20, Loss: 3.5112\n",
      "Epoch 8/20, Loss: 1.5944\n",
      "Epoch 9/20, Loss: 6.9210\n",
      "Epoch 10/20, Loss: 10.7436\n",
      "Epoch 11/20, Loss: 10.5935\n",
      "Epoch 12/20, Loss: 6.3708\n",
      "Epoch 13/20, Loss: 11.7580\n",
      "Epoch 14/20, Loss: 2.7617\n",
      "Epoch 15/20, Loss: 4.3929\n",
      "Epoch 16/20, Loss: 7.6988\n",
      "Epoch 17/20, Loss: 9.6083\n",
      "Epoch 18/20, Loss: 4.9320\n",
      "Epoch 19/20, Loss: 3.9941\n",
      "Epoch 20/20, Loss: 2.4931\n",
      "Class to index mapping: {'good': 0, 'missing-cap': 1}\n"
     ]
    }
   ],
   "execution_count": 11
  },
  {
   "metadata": {
    "ExecuteTime": {
     "end_time": "2025-05-12T10:43:59.199765Z",
     "start_time": "2025-05-12T10:43:58.040603Z"
    }
   },
   "cell_type": "code",
   "source": [
    " # === Validation Dataset ===\n",
    "DATA_DIR_VAL = \"/Users/azizbek/Documents/Projects/PowerLine/data/InsPLAD-fault/defect_supervised/glass-insulator/val\"\n",
    "val_dataset = datasets.ImageFolder(DATA_DIR_VAL, transform=transform)\n",
    "val_loader = DataLoader(val_dataset, batch_size=BATCH_SIZE, shuffle=False)\n",
    "\n",
    "# === Validation Function ===\n",
    "def evaluate(model, val_loader):\n",
    "    model.eval()\n",
    "    correct = 0\n",
    "    total = 0\n",
    "    with torch.no_grad():\n",
    "        for imgs, labels in val_loader:\n",
    "            imgs, labels = imgs.to(DEVICE), labels.to(DEVICE)\n",
    "            outputs = model(imgs)\n",
    "            _, predicted = torch.max(outputs, 1)\n",
    "            correct += (predicted == labels).sum().item()\n",
    "            total += labels.size(0)\n",
    "\n",
    "    accuracy = 100 * correct / total\n",
    "    print(f\"✅ Validation Accuracy: {accuracy:.2f}%\")\n",
    "\n",
    "# === Run Evaluation ===\n",
    "evaluate(model, val_loader)"
   ],
   "id": "1e4c45a2ca944615",
   "outputs": [
    {
     "name": "stdout",
     "output_type": "stream",
     "text": [
      "✅ Validation Accuracy: 83.05%\n"
     ]
    }
   ],
   "execution_count": 12
  },
  {
   "metadata": {
    "ExecuteTime": {
     "end_time": "2025-05-15T12:16:09.916909Z",
     "start_time": "2025-05-15T12:16:09.896557Z"
    }
   },
   "cell_type": "code",
   "source": "df = pd.read_csv(\"/Users/azizbek/Documents/Projects/PowerLine/dataset/image_labels_with_code.csv\")",
   "id": "9fcd778295c9a363",
   "outputs": [],
   "execution_count": 2
  },
  {
   "metadata": {
    "ExecuteTime": {
     "end_time": "2025-05-15T14:25:12.640430Z",
     "start_time": "2025-05-15T14:25:12.633512Z"
    }
   },
   "cell_type": "code",
   "source": [
    "df_category2 = df[df[\"category_code\"] == 3]\n",
    "print(len(df_category2[df_category2[\"status\"]==0]))\n",
    "print(len(df_category2[df_category2[\"status\"]==1]))\n",
    "print(len(df_category2[df_category2[\"status\"]==2]))\n",
    "df_category2.shape\n"
   ],
   "id": "39e5cabcebd223f",
   "outputs": [
    {
     "name": "stdout",
     "output_type": "stream",
     "text": [
      "596\n",
      "310\n",
      "373\n"
     ]
    },
    {
     "data": {
      "text/plain": [
       "(1279, 4)"
      ]
     },
     "execution_count": 9,
     "metadata": {},
     "output_type": "execute_result"
    }
   ],
   "execution_count": 9
  }
 ],
 "metadata": {
  "kernelspec": {
   "display_name": "Python 3",
   "language": "python",
   "name": "python3"
  },
  "language_info": {
   "codemirror_mode": {
    "name": "ipython",
    "version": 2
   },
   "file_extension": ".py",
   "mimetype": "text/x-python",
   "name": "python",
   "nbconvert_exporter": "python",
   "pygments_lexer": "ipython2",
   "version": "2.7.6"
  }
 },
 "nbformat": 4,
 "nbformat_minor": 5
}
