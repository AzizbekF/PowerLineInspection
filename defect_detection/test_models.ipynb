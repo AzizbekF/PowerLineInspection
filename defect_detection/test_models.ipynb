{
 "cells": [
  {
   "metadata": {
    "ExecuteTime": {
     "end_time": "2025-05-15T04:13:32.858561Z",
     "start_time": "2025-05-15T04:13:25.888441Z"
    }
   },
   "cell_type": "code",
   "source": [
    "from utils.util import *\n",
    "import os\n",
    "import random\n",
    "\n",
    "CSV_FILE_PATH = '../dataset/image_labels_with_code.csv'  # Replace with your CSV file path\n",
    "IMAGE_DIR = '../data/InsPLAD-fault/defect_supervised'  # Replace with the base directory of your images\n",
    "\n",
    "IMG_HEIGHT = 224  # Image height for ResNet\n",
    "IMG_WIDTH = 224  # Image width for ResNet\n",
    "BATCH_SIZE = 32\n",
    "NUM_WORKERS = 4  # Number of worker processes for DataLoader\n",
    "LEARNING_RATE = 1e-4\n",
    "NUM_EPOCHS = 50  # Max number of epochs (early stopping will be used)\n",
    "EARLY_STOPPING_PATIENCE = 5\n",
    "BEST_MODEL_PATH = '../models/defect_detection_lighting_model.pth'\n",
    "DEVICE = torch.device(\"mps\" if torch.backends.mps.is_available() else \"cuda\" if torch.cuda.is_available() else \"cpu\")"
   ],
   "id": "d95e57f8cdec70c9",
   "outputs": [],
   "execution_count": 1
  },
  {
   "metadata": {},
   "cell_type": "markdown",
   "source": "# Glass insulator\n",
   "id": "9b2e44333cea227b"
  },
  {
   "metadata": {
    "collapsed": true,
    "ExecuteTime": {
     "end_time": "2025-05-15T04:13:35.624922Z",
     "start_time": "2025-05-15T04:13:35.382991Z"
    }
   },
   "cell_type": "code",
   "source": [
    "df = load_data_from_csv(CSV_FILE_PATH)\n",
    "train_df, val_df = split_data(df, stratify_col='status')  # Ensure 'status' is the correct column\n",
    "df = df[df['category_code']==1]\n",
    "\n",
    "    # Define image transformations\n",
    "    # For ResNet, normalization values are typically from ImageNet\n",
    "imagenet_mean = [0.485, 0.456, 0.406]\n",
    "imagenet_std = [0.229, 0.224, 0.225]\n",
    "\n",
    "train_transform = transforms.Compose([\n",
    "        transforms.Resize((IMG_HEIGHT, IMG_WIDTH)),\n",
    "        transforms.RandomHorizontalFlip(),\n",
    "        transforms.RandomRotation(15),\n",
    "        # Add more augmentations if needed (e.g., ColorJitter)\n",
    "        transforms.ToTensor(),\n",
    "        transforms.Normalize(mean=imagenet_mean, std=imagenet_std)\n",
    "    ])\n",
    "\n",
    "val_transform = transforms.Compose([\n",
    "        transforms.Resize((IMG_HEIGHT, IMG_WIDTH)),\n",
    "        transforms.ToTensor(),\n",
    "        transforms.Normalize(mean=imagenet_mean, std=imagenet_std)\n",
    "    ])\n",
    "\n",
    "train_loader, val_loader = get_data_loaders(\n",
    "        train_df, val_df, IMAGE_DIR, train_transform, val_transform, BATCH_SIZE, NUM_WORKERS\n",
    "    )\n",
    "model = get_pretrained_resnet(num_classes=1, pretrained=False)\n",
    "model.load_state_dict(torch.load(BEST_MODEL_PATH))\n",
    "model.to(DEVICE)\n",
    "model.eval()\n",
    "criterion = nn.BCEWithLogitsLoss()\n"
   ],
   "id": "initial_id",
   "outputs": [
    {
     "name": "stdout",
     "output_type": "stream",
     "text": [
      "Successfully loaded CSV from: ../dataset/image_labels_with_code.csv\n",
      "CSV columns: ['category_code', 'category', 'image_path', 'status']\n",
      "Data split: 10372 training samples, 1153 validation samples.\n",
      "Stratified by column: 'status'\n",
      "Training status distribution:\n",
      "status\n",
      "0    0.755688\n",
      "1    0.211917\n",
      "2    0.032395\n",
      "Name: proportion, dtype: float64\n",
      "Validation status distribution:\n",
      "status\n",
      "0    0.755421\n",
      "1    0.212489\n",
      "2    0.032090\n",
      "Name: proportion, dtype: float64\n",
      "DataLoaders created. Training batches: 325, Validation batches: 37\n",
      "ResNet18 loaded. Final layer replaced for 1 output features.\n",
      "Only the final layer will be trained initially.\n"
     ]
    }
   ],
   "execution_count": 2
  },
  {
   "metadata": {
    "ExecuteTime": {
     "end_time": "2025-05-15T04:14:05.240664Z",
     "start_time": "2025-05-15T04:13:40.281763Z"
    }
   },
   "cell_type": "code",
   "source": "evaluate_model(model, val_loader, criterion, DEVICE)\n",
   "id": "aa1d064f46adeb99",
   "outputs": [
    {
     "data": {
      "text/plain": [
       "(0.7360395635611475,\n",
       " 0.4163052905464007,\n",
       " 0.22163588390208924,\n",
       " 0.5266457680085691,\n",
       " 0.31197771170238875)"
      ]
     },
     "execution_count": 3,
     "metadata": {},
     "output_type": "execute_result"
    }
   ],
   "execution_count": 3
  },
  {
   "metadata": {
    "ExecuteTime": {
     "end_time": "2025-05-15T04:14:05.312890Z",
     "start_time": "2025-05-15T04:14:05.308862Z"
    }
   },
   "cell_type": "code",
   "source": [
    "def predict_single(img_path, model, device):\n",
    "    img_tfms = transforms.Compose([\n",
    "        transforms.Resize((224, 224)),  # <— same size you used\n",
    "        transforms.ToTensor(),\n",
    "        transforms.Normalize([0.485, 0.456, 0.406],  # <— same stats you used\n",
    "                             [0.229, 0.224, 0.225]),\n",
    "    ])\n",
    "\n",
    "    \"\"\"Return probability and binary label (0=good, 1=defect) for one image.\"\"\"\n",
    "    model.eval()                                       # inference mode\n",
    "    img = Image.open(img_path).convert('RGB')\n",
    "    x   = img_tfms(img).unsqueeze(0).to(device)        # shape 1×3×H×W\n",
    "\n",
    "    with torch.no_grad():\n",
    "        logit = model(x)                               # shape [1, 1]\n",
    "        prob  = torch.sigmoid(logit).item()            # 0 – 1\n",
    "        label = int(prob > 0.5)                        # threshold\n",
    "\n",
    "    return prob, label"
   ],
   "id": "ab1e04df8032733b",
   "outputs": [],
   "execution_count": 4
  },
  {
   "metadata": {
    "ExecuteTime": {
     "end_time": "2025-05-15T04:15:19.538299Z",
     "start_time": "2025-05-15T04:15:19.448752Z"
    }
   },
   "cell_type": "code",
   "source": [
    "num_test_images = 5\n",
    "image_dir = \"../data/InsPLAD-fault/unsupervised_anomaly_detection/lightning-rod-suspension/test/rust\"\n",
    "#image_dir = \"..//data/InsPLAD-fault/defect_supervised/glass-insulator/val\"\n",
    "\n",
    "# Get a list of all image files\n",
    "image_files = [os.path.join(image_dir, f) for f in os.listdir(image_dir) if os.path.isfile(os.path.join(image_dir, f))]\n",
    "\n",
    "for _ in range(num_test_images):\n",
    "    img_path = random.choice(image_files)\n",
    "    print(f\"\\n--- Processing image: {os.path.basename(img_path)} ---\")\n",
    "\n",
    "    prob, label = predict_single(img_path, model, DEVICE)\n",
    "    print(f'File: {img_path}')\n",
    "    print(f'Defect probability: {prob:.2%}')\n",
    "    print('Predicted label   :', 'defect' if label else 'good')"
   ],
   "id": "90d4160dd2f7520",
   "outputs": [
    {
     "name": "stdout",
     "output_type": "stream",
     "text": [
      "\n",
      "--- Processing image: 15-06-2021_DJI_0149_742.jpg ---\n",
      "File: ../data/InsPLAD-fault/unsupervised_anomaly_detection/lightning-rod-suspension/test/rust/15-06-2021_DJI_0149_742.jpg\n",
      "Defect probability: 49.79%\n",
      "Predicted label   : good\n",
      "\n",
      "--- Processing image: 09-06-2021_DJI_0058_456.jpg ---\n",
      "File: ../data/InsPLAD-fault/unsupervised_anomaly_detection/lightning-rod-suspension/test/rust/09-06-2021_DJI_0058_456.jpg\n",
      "Defect probability: 39.50%\n",
      "Predicted label   : good\n",
      "\n",
      "--- Processing image: 09-06-2021_DJI_0299_526.jpg ---\n",
      "File: ../data/InsPLAD-fault/unsupervised_anomaly_detection/lightning-rod-suspension/test/rust/09-06-2021_DJI_0299_526.jpg\n",
      "Defect probability: 55.35%\n",
      "Predicted label   : defect\n",
      "\n",
      "--- Processing image: 02-06-2021_DJI_0045_193.jpg ---\n",
      "File: ../data/InsPLAD-fault/unsupervised_anomaly_detection/lightning-rod-suspension/test/rust/02-06-2021_DJI_0045_193.jpg\n",
      "Defect probability: 60.53%\n",
      "Predicted label   : defect\n",
      "\n",
      "--- Processing image: 15-06-2021_DJI_0050_728.jpg ---\n",
      "File: ../data/InsPLAD-fault/unsupervised_anomaly_detection/lightning-rod-suspension/test/rust/15-06-2021_DJI_0050_728.jpg\n",
      "Defect probability: 68.35%\n",
      "Predicted label   : defect\n"
     ]
    }
   ],
   "execution_count": 6
  }
 ],
 "metadata": {
  "kernelspec": {
   "display_name": "Python 3",
   "language": "python",
   "name": "python3"
  },
  "language_info": {
   "codemirror_mode": {
    "name": "ipython",
    "version": 2
   },
   "file_extension": ".py",
   "mimetype": "text/x-python",
   "name": "python",
   "nbconvert_exporter": "python",
   "pygments_lexer": "ipython2",
   "version": "2.7.6"
  }
 },
 "nbformat": 4,
 "nbformat_minor": 5
}
