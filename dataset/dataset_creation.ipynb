{
 "cells": [
  {
   "cell_type": "code",
   "id": "initial_id",
   "metadata": {
    "collapsed": true,
    "ExecuteTime": {
     "end_time": "2025-05-13T06:08:18.700083Z",
     "start_time": "2025-05-13T06:08:18.696457Z"
    }
   },
   "source": [
    "import os\n",
    "import pandas as pd\n",
    "\n",
    "ROOT_DIR = \"/Users/azizbek/Documents/Projects/PowerLine/data/InsPLAD-fault/defect_supervised\"\n"
   ],
   "outputs": [],
   "execution_count": 5
  },
  {
   "metadata": {
    "ExecuteTime": {
     "end_time": "2025-05-13T06:20:17.746008Z",
     "start_time": "2025-05-13T06:20:17.734923Z"
    }
   },
   "cell_type": "code",
   "source": [
    "csv_file = 'image_labels.csv'\n",
    "if os.path.exists(csv_file):\n",
    "    df_main = pd.read_csv(csv_file)\n",
    "else:\n",
    "    df_main = pd.DataFrame(columns=['category', 'image_path', 'status'])\n",
    "    df_main.to_csv('image_labels.csv', index=False)"
   ],
   "id": "7cc9a0ef61cb0ac3",
   "outputs": [],
   "execution_count": 18
  },
  {
   "metadata": {
    "ExecuteTime": {
     "end_time": "2025-05-13T06:43:53.804557Z",
     "start_time": "2025-05-13T06:43:53.801494Z"
    }
   },
   "cell_type": "code",
   "source": [
    "NAME = \"yoke-suspension\"\n",
    "DIRECTORY = \"val/rust\"\n",
    "STATUS = 1\n",
    "folder_path = os.path.join(ROOT_DIR, NAME)\n",
    "folder_path = os.path.join(folder_path, DIRECTORY)\n",
    "folder_end_path = os.path.join(NAME, DIRECTORY)"
   ],
   "id": "ddadc7305535a6b1",
   "outputs": [],
   "execution_count": 97
  },
  {
   "metadata": {
    "ExecuteTime": {
     "end_time": "2025-05-13T06:43:55.157140Z",
     "start_time": "2025-05-13T06:43:55.146540Z"
    }
   },
   "cell_type": "code",
   "source": [
    "df_temp = pd.DataFrame(columns=['category', 'image_path', 'status'])\n",
    "\n",
    "for root, dirs, files in os.walk(folder_path):\n",
    "    for file in files:\n",
    "        full_path = os.path.join(folder_end_path, file)\n",
    "        print(full_path)\n",
    "        df_temp.loc[len(df_temp)] = [NAME, full_path, STATUS]\n",
    "        # do whatever you want with each file\n",
    "\n",
    "print(df_temp.head())\n",
    "print(df_temp.shape)"
   ],
   "id": "d3b0ee80cfd3678c",
   "outputs": [
    {
     "name": "stdout",
     "output_type": "stream",
     "text": [
      "yoke-suspension/val/rust/15-06-2021_DJI_0172_757.jpg\n",
      "yoke-suspension/val/rust/01-06-2021_DJI_0210_65.jpg\n",
      "yoke-suspension/val/rust/01-06-2021_DJI_0351_106.jpg\n",
      "yoke-suspension/val/rust/02-06-2021_DJI_0092_204.jpg\n",
      "yoke-suspension/val/rust/01-06-2021_DJI_0144_38.jpg\n",
      "yoke-suspension/val/rust/01-06-2021_DJI_0352_107.jpg\n",
      "yoke-suspension/val/rust/01-06-2021_DJI_0444_131.jpg\n",
      "yoke-suspension/val/rust/01-06-2021_DJI_0352_108.jpg\n",
      "yoke-suspension/val/rust/15-06-2021_DJI_0160_748.jpg\n",
      "yoke-suspension/val/rust/09-06-2021_DJI_0474_581.jpg\n",
      "yoke-suspension/val/rust/15-06-2021_DJI_0217_771.jpg\n",
      "yoke-suspension/val/rust/01-06-2021_DJI_0385_114.jpg\n",
      "yoke-suspension/val/rust/01-06-2021_DJI_0626_178.jpg\n",
      "yoke-suspension/val/rust/01-06-2021_DJI_0262_75.jpg\n",
      "yoke-suspension/val/rust/01-06-2021_DJI_0622_172.jpg\n",
      "yoke-suspension/val/rust/09-06-2021_DJI_0475_583.jpg\n",
      "yoke-suspension/val/rust/01-06-2021_DJI_0144_37.jpg\n",
      "yoke-suspension/val/rust/01-06-2021_DJI_0183_56.jpg\n",
      "yoke-suspension/val/rust/01-06-2021_DJI_0355_110.jpg\n",
      "yoke-suspension/val/rust/01-06-2021_DJI_0355_111.jpg\n",
      "          category                                         image_path  status\n",
      "0  yoke-suspension  yoke-suspension/val/rust/15-06-2021_DJI_0172_7...       1\n",
      "1  yoke-suspension  yoke-suspension/val/rust/01-06-2021_DJI_0210_6...       1\n",
      "2  yoke-suspension  yoke-suspension/val/rust/01-06-2021_DJI_0351_1...       1\n",
      "3  yoke-suspension  yoke-suspension/val/rust/02-06-2021_DJI_0092_2...       1\n",
      "4  yoke-suspension  yoke-suspension/val/rust/01-06-2021_DJI_0144_3...       1\n",
      "(20, 3)\n"
     ]
    }
   ],
   "execution_count": 98
  },
  {
   "metadata": {
    "ExecuteTime": {
     "end_time": "2025-05-13T06:43:57.571148Z",
     "start_time": "2025-05-13T06:43:57.543336Z"
    }
   },
   "cell_type": "code",
   "source": [
    "df_main = pd.concat([df_main, df_temp], ignore_index=True)\n",
    "df_main.to_csv(csv_file, index=False)\n",
    "print(df_main.size)"
   ],
   "id": "269ea6beb1f02c3b",
   "outputs": [
    {
     "name": "stdout",
     "output_type": "stream",
     "text": [
      "34575\n"
     ]
    }
   ],
   "execution_count": 99
  },
  {
   "metadata": {},
   "cell_type": "code",
   "outputs": [],
   "execution_count": null,
   "source": "",
   "id": "9c6a3d93f19ab18e"
  },
  {
   "metadata": {},
   "cell_type": "markdown",
   "source": "# Creating category code",
   "id": "378f182e36006c70"
  },
  {
   "metadata": {
    "ExecuteTime": {
     "end_time": "2025-05-13T06:47:58.355549Z",
     "start_time": "2025-05-13T06:47:58.346461Z"
    }
   },
   "cell_type": "code",
   "source": "df_main['category_code'] = 0",
   "id": "a0e10bdd1186f6ff",
   "outputs": [],
   "execution_count": 100
  },
  {
   "metadata": {
    "ExecuteTime": {
     "end_time": "2025-05-13T06:49:27.043774Z",
     "start_time": "2025-05-13T06:49:27.028609Z"
    }
   },
   "cell_type": "code",
   "source": [
    "df_main.loc[df_main['category'] == 'lightning-rod-suspension', 'category_code'] = 1\n",
    "df_main.loc[df_main['category'] == 'polymer-insulator-upper-shackle', 'category_code'] = 2\n",
    "df_main.loc[df_main['category'] == 'vari-grip', 'category_code'] = 3\n",
    "df_main.loc[df_main['category'] == 'yoke-suspension', 'category_code'] = 4"
   ],
   "id": "4a4519a6b67c40af",
   "outputs": [],
   "execution_count": 101
  },
  {
   "metadata": {
    "ExecuteTime": {
     "end_time": "2025-05-13T06:50:01.338225Z",
     "start_time": "2025-05-13T06:50:01.305089Z"
    }
   },
   "cell_type": "code",
   "source": "df_main.to_csv(\"image_labels_with_code.csv\", index=False)",
   "id": "7d796394b41e1540",
   "outputs": [],
   "execution_count": 102
  },
  {
   "metadata": {
    "ExecuteTime": {
     "end_time": "2025-05-13T06:53:35.250248Z",
     "start_time": "2025-05-13T06:53:35.230018Z"
    }
   },
   "cell_type": "code",
   "source": "df_main = df_main[['category_code'] + [col for col in df_main.columns if col != 'category_code']]",
   "id": "a14b026c84396960",
   "outputs": [],
   "execution_count": 103
  },
  {
   "metadata": {
    "ExecuteTime": {
     "end_time": "2025-05-13T06:53:43.116906Z",
     "start_time": "2025-05-13T06:53:43.093321Z"
    }
   },
   "cell_type": "code",
   "source": "df_main.head()",
   "id": "218adef61b2fd5cc",
   "outputs": [
    {
     "data": {
      "text/plain": [
       "   category_code         category  \\\n",
       "0              0  glass-insulator   \n",
       "1              0  glass-insulator   \n",
       "2              0  glass-insulator   \n",
       "3              0  glass-insulator   \n",
       "4              0  glass-insulator   \n",
       "\n",
       "                                          image_path status  \n",
       "0  glass-insulator/train/good/Fotos 16-11-2020_DJ...      0  \n",
       "1  glass-insulator/train/good/Fotos 25-11-2020_DJ...      0  \n",
       "2  glass-insulator/train/good/Fotos 04-12-2020_DJ...      0  \n",
       "3  glass-insulator/train/good/Fotos 30-11-2020_DJ...      0  \n",
       "4  glass-insulator/train/good/Fotos 04-12-2020_DJ...      0  "
      ],
      "text/html": [
       "<div>\n",
       "<style scoped>\n",
       "    .dataframe tbody tr th:only-of-type {\n",
       "        vertical-align: middle;\n",
       "    }\n",
       "\n",
       "    .dataframe tbody tr th {\n",
       "        vertical-align: top;\n",
       "    }\n",
       "\n",
       "    .dataframe thead th {\n",
       "        text-align: right;\n",
       "    }\n",
       "</style>\n",
       "<table border=\"1\" class=\"dataframe\">\n",
       "  <thead>\n",
       "    <tr style=\"text-align: right;\">\n",
       "      <th></th>\n",
       "      <th>category_code</th>\n",
       "      <th>category</th>\n",
       "      <th>image_path</th>\n",
       "      <th>status</th>\n",
       "    </tr>\n",
       "  </thead>\n",
       "  <tbody>\n",
       "    <tr>\n",
       "      <th>0</th>\n",
       "      <td>0</td>\n",
       "      <td>glass-insulator</td>\n",
       "      <td>glass-insulator/train/good/Fotos 16-11-2020_DJ...</td>\n",
       "      <td>0</td>\n",
       "    </tr>\n",
       "    <tr>\n",
       "      <th>1</th>\n",
       "      <td>0</td>\n",
       "      <td>glass-insulator</td>\n",
       "      <td>glass-insulator/train/good/Fotos 25-11-2020_DJ...</td>\n",
       "      <td>0</td>\n",
       "    </tr>\n",
       "    <tr>\n",
       "      <th>2</th>\n",
       "      <td>0</td>\n",
       "      <td>glass-insulator</td>\n",
       "      <td>glass-insulator/train/good/Fotos 04-12-2020_DJ...</td>\n",
       "      <td>0</td>\n",
       "    </tr>\n",
       "    <tr>\n",
       "      <th>3</th>\n",
       "      <td>0</td>\n",
       "      <td>glass-insulator</td>\n",
       "      <td>glass-insulator/train/good/Fotos 30-11-2020_DJ...</td>\n",
       "      <td>0</td>\n",
       "    </tr>\n",
       "    <tr>\n",
       "      <th>4</th>\n",
       "      <td>0</td>\n",
       "      <td>glass-insulator</td>\n",
       "      <td>glass-insulator/train/good/Fotos 04-12-2020_DJ...</td>\n",
       "      <td>0</td>\n",
       "    </tr>\n",
       "  </tbody>\n",
       "</table>\n",
       "</div>"
      ]
     },
     "execution_count": 104,
     "metadata": {},
     "output_type": "execute_result"
    }
   ],
   "execution_count": 104
  },
  {
   "metadata": {
    "ExecuteTime": {
     "end_time": "2025-05-13T06:53:53.232628Z",
     "start_time": "2025-05-13T06:53:53.206945Z"
    }
   },
   "cell_type": "code",
   "source": "df_main.to_csv(\"image_labels_with_code.csv\", index=False)",
   "id": "6a673edaae3fb66a",
   "outputs": [],
   "execution_count": 105
  },
  {
   "metadata": {},
   "cell_type": "markdown",
   "source": [
    "# Creating dataset for defect classification\n",
    "## Adding status code and name"
   ],
   "id": "b72abea82dfc8cf2"
  },
  {
   "metadata": {
    "ExecuteTime": {
     "end_time": "2025-05-13T06:57:50.559026Z",
     "start_time": "2025-05-13T06:57:50.536681Z"
    }
   },
   "cell_type": "code",
   "source": [
    "df = df_main.copy()\n",
    "df = df.rename(columns={'status': 'status_binary'})\n",
    "df[\"status_name\"] = \"\"\n",
    "df[\"status_code\"] = 0\n",
    "df.head()"
   ],
   "id": "9bf064f157ff59df",
   "outputs": [
    {
     "data": {
      "text/plain": [
       "   category_code         category  \\\n",
       "0              0  glass-insulator   \n",
       "1              0  glass-insulator   \n",
       "2              0  glass-insulator   \n",
       "3              0  glass-insulator   \n",
       "4              0  glass-insulator   \n",
       "\n",
       "                                          image_path status_binary  \\\n",
       "0  glass-insulator/train/good/Fotos 16-11-2020_DJ...             0   \n",
       "1  glass-insulator/train/good/Fotos 25-11-2020_DJ...             0   \n",
       "2  glass-insulator/train/good/Fotos 04-12-2020_DJ...             0   \n",
       "3  glass-insulator/train/good/Fotos 30-11-2020_DJ...             0   \n",
       "4  glass-insulator/train/good/Fotos 04-12-2020_DJ...             0   \n",
       "\n",
       "  status_name  status_code  \n",
       "0                        0  \n",
       "1                        0  \n",
       "2                        0  \n",
       "3                        0  \n",
       "4                        0  "
      ],
      "text/html": [
       "<div>\n",
       "<style scoped>\n",
       "    .dataframe tbody tr th:only-of-type {\n",
       "        vertical-align: middle;\n",
       "    }\n",
       "\n",
       "    .dataframe tbody tr th {\n",
       "        vertical-align: top;\n",
       "    }\n",
       "\n",
       "    .dataframe thead th {\n",
       "        text-align: right;\n",
       "    }\n",
       "</style>\n",
       "<table border=\"1\" class=\"dataframe\">\n",
       "  <thead>\n",
       "    <tr style=\"text-align: right;\">\n",
       "      <th></th>\n",
       "      <th>category_code</th>\n",
       "      <th>category</th>\n",
       "      <th>image_path</th>\n",
       "      <th>status_binary</th>\n",
       "      <th>status_name</th>\n",
       "      <th>status_code</th>\n",
       "    </tr>\n",
       "  </thead>\n",
       "  <tbody>\n",
       "    <tr>\n",
       "      <th>0</th>\n",
       "      <td>0</td>\n",
       "      <td>glass-insulator</td>\n",
       "      <td>glass-insulator/train/good/Fotos 16-11-2020_DJ...</td>\n",
       "      <td>0</td>\n",
       "      <td></td>\n",
       "      <td>0</td>\n",
       "    </tr>\n",
       "    <tr>\n",
       "      <th>1</th>\n",
       "      <td>0</td>\n",
       "      <td>glass-insulator</td>\n",
       "      <td>glass-insulator/train/good/Fotos 25-11-2020_DJ...</td>\n",
       "      <td>0</td>\n",
       "      <td></td>\n",
       "      <td>0</td>\n",
       "    </tr>\n",
       "    <tr>\n",
       "      <th>2</th>\n",
       "      <td>0</td>\n",
       "      <td>glass-insulator</td>\n",
       "      <td>glass-insulator/train/good/Fotos 04-12-2020_DJ...</td>\n",
       "      <td>0</td>\n",
       "      <td></td>\n",
       "      <td>0</td>\n",
       "    </tr>\n",
       "    <tr>\n",
       "      <th>3</th>\n",
       "      <td>0</td>\n",
       "      <td>glass-insulator</td>\n",
       "      <td>glass-insulator/train/good/Fotos 30-11-2020_DJ...</td>\n",
       "      <td>0</td>\n",
       "      <td></td>\n",
       "      <td>0</td>\n",
       "    </tr>\n",
       "    <tr>\n",
       "      <th>4</th>\n",
       "      <td>0</td>\n",
       "      <td>glass-insulator</td>\n",
       "      <td>glass-insulator/train/good/Fotos 04-12-2020_DJ...</td>\n",
       "      <td>0</td>\n",
       "      <td></td>\n",
       "      <td>0</td>\n",
       "    </tr>\n",
       "  </tbody>\n",
       "</table>\n",
       "</div>"
      ]
     },
     "execution_count": 106,
     "metadata": {},
     "output_type": "execute_result"
    }
   ],
   "execution_count": 106
  },
  {
   "metadata": {
    "ExecuteTime": {
     "end_time": "2025-05-13T07:04:46.175145Z",
     "start_time": "2025-05-13T07:04:46.162010Z"
    }
   },
   "cell_type": "code",
   "source": [
    "df.loc[\n",
    "    (df['category'] == 'glass-insulator') & (df['status_binary'] == 0),\n",
    "    ['status_code', 'status_name']\n",
    "] = [0, 'good']\n",
    "\n",
    "df.loc[\n",
    "    (df['category'] == 'glass-insulator') & (df['status_binary'] == 1),\n",
    "    ['status_code', 'status_name']\n",
    "] = [1, 'missing cap']\n",
    "\n",
    "df[(df['category'] == 'glass-insulator') & (df['status_binary'] == 1)].head(5)"
   ],
   "id": "42be5dac6ffcb210",
   "outputs": [
    {
     "data": {
      "text/plain": [
       "     category_code         category  \\\n",
       "720              0  glass-insulator   \n",
       "721              0  glass-insulator   \n",
       "722              0  glass-insulator   \n",
       "723              0  glass-insulator   \n",
       "724              0  glass-insulator   \n",
       "\n",
       "                                            image_path status_binary  \\\n",
       "720  glass-insulator/train/missing-cap/Fotos 03-12-...             1   \n",
       "721  glass-insulator/train/missing-cap/Fotos 19-10-...             1   \n",
       "722  glass-insulator/train/missing-cap/Fotos 03-12-...             1   \n",
       "723  glass-insulator/train/missing-cap/Fotos 25-11-...             1   \n",
       "724  glass-insulator/train/missing-cap/Fotos 21-10-...             1   \n",
       "\n",
       "     status_name  status_code  \n",
       "720  missing cap            1  \n",
       "721  missing cap            1  \n",
       "722  missing cap            1  \n",
       "723  missing cap            1  \n",
       "724  missing cap            1  "
      ],
      "text/html": [
       "<div>\n",
       "<style scoped>\n",
       "    .dataframe tbody tr th:only-of-type {\n",
       "        vertical-align: middle;\n",
       "    }\n",
       "\n",
       "    .dataframe tbody tr th {\n",
       "        vertical-align: top;\n",
       "    }\n",
       "\n",
       "    .dataframe thead th {\n",
       "        text-align: right;\n",
       "    }\n",
       "</style>\n",
       "<table border=\"1\" class=\"dataframe\">\n",
       "  <thead>\n",
       "    <tr style=\"text-align: right;\">\n",
       "      <th></th>\n",
       "      <th>category_code</th>\n",
       "      <th>category</th>\n",
       "      <th>image_path</th>\n",
       "      <th>status_binary</th>\n",
       "      <th>status_name</th>\n",
       "      <th>status_code</th>\n",
       "    </tr>\n",
       "  </thead>\n",
       "  <tbody>\n",
       "    <tr>\n",
       "      <th>720</th>\n",
       "      <td>0</td>\n",
       "      <td>glass-insulator</td>\n",
       "      <td>glass-insulator/train/missing-cap/Fotos 03-12-...</td>\n",
       "      <td>1</td>\n",
       "      <td>missing cap</td>\n",
       "      <td>1</td>\n",
       "    </tr>\n",
       "    <tr>\n",
       "      <th>721</th>\n",
       "      <td>0</td>\n",
       "      <td>glass-insulator</td>\n",
       "      <td>glass-insulator/train/missing-cap/Fotos 19-10-...</td>\n",
       "      <td>1</td>\n",
       "      <td>missing cap</td>\n",
       "      <td>1</td>\n",
       "    </tr>\n",
       "    <tr>\n",
       "      <th>722</th>\n",
       "      <td>0</td>\n",
       "      <td>glass-insulator</td>\n",
       "      <td>glass-insulator/train/missing-cap/Fotos 03-12-...</td>\n",
       "      <td>1</td>\n",
       "      <td>missing cap</td>\n",
       "      <td>1</td>\n",
       "    </tr>\n",
       "    <tr>\n",
       "      <th>723</th>\n",
       "      <td>0</td>\n",
       "      <td>glass-insulator</td>\n",
       "      <td>glass-insulator/train/missing-cap/Fotos 25-11-...</td>\n",
       "      <td>1</td>\n",
       "      <td>missing cap</td>\n",
       "      <td>1</td>\n",
       "    </tr>\n",
       "    <tr>\n",
       "      <th>724</th>\n",
       "      <td>0</td>\n",
       "      <td>glass-insulator</td>\n",
       "      <td>glass-insulator/train/missing-cap/Fotos 21-10-...</td>\n",
       "      <td>1</td>\n",
       "      <td>missing cap</td>\n",
       "      <td>1</td>\n",
       "    </tr>\n",
       "  </tbody>\n",
       "</table>\n",
       "</div>"
      ]
     },
     "execution_count": 113,
     "metadata": {},
     "output_type": "execute_result"
    }
   ],
   "execution_count": 113
  },
  {
   "metadata": {
    "ExecuteTime": {
     "end_time": "2025-05-13T07:06:07.561849Z",
     "start_time": "2025-05-13T07:06:07.536719Z"
    }
   },
   "cell_type": "code",
   "source": [
    "df.loc[\n",
    "    (df['category'] == 'lightning-rod-suspension') & (df['status_binary'] == 0),\n",
    "    ['status_code', 'status_name']\n",
    "] = [2, 'good']\n",
    "\n",
    "df.loc[\n",
    "    (df['category'] == 'lightning-rod-suspension') & (df['status_binary'] == 1),\n",
    "    ['status_code', 'status_name']\n",
    "] = [3, 'rust']\n",
    "\n",
    "df[(df['category'] == 'lightning-rod-suspension') & (df['status_binary'] == 1)].head(5)"
   ],
   "id": "36fdd3bb98e3c12",
   "outputs": [
    {
     "data": {
      "text/plain": [
       "      category_code                  category  \\\n",
       "2019              1  lightning-rod-suspension   \n",
       "2020              1  lightning-rod-suspension   \n",
       "2021              1  lightning-rod-suspension   \n",
       "2022              1  lightning-rod-suspension   \n",
       "2023              1  lightning-rod-suspension   \n",
       "\n",
       "                                             image_path status_binary  \\\n",
       "2019  lightning-rod-suspension/train/rust/02-06-2021...             1   \n",
       "2020  lightning-rod-suspension/train/rust/15-06-2021...             1   \n",
       "2021  lightning-rod-suspension/train/rust/01-06-2021...             1   \n",
       "2022  lightning-rod-suspension/train/rust/08-06-2021...             1   \n",
       "2023  lightning-rod-suspension/train/rust/08-06-2021...             1   \n",
       "\n",
       "     status_name  status_code  \n",
       "2019        rust            3  \n",
       "2020        rust            3  \n",
       "2021        rust            3  \n",
       "2022        rust            3  \n",
       "2023        rust            3  "
      ],
      "text/html": [
       "<div>\n",
       "<style scoped>\n",
       "    .dataframe tbody tr th:only-of-type {\n",
       "        vertical-align: middle;\n",
       "    }\n",
       "\n",
       "    .dataframe tbody tr th {\n",
       "        vertical-align: top;\n",
       "    }\n",
       "\n",
       "    .dataframe thead th {\n",
       "        text-align: right;\n",
       "    }\n",
       "</style>\n",
       "<table border=\"1\" class=\"dataframe\">\n",
       "  <thead>\n",
       "    <tr style=\"text-align: right;\">\n",
       "      <th></th>\n",
       "      <th>category_code</th>\n",
       "      <th>category</th>\n",
       "      <th>image_path</th>\n",
       "      <th>status_binary</th>\n",
       "      <th>status_name</th>\n",
       "      <th>status_code</th>\n",
       "    </tr>\n",
       "  </thead>\n",
       "  <tbody>\n",
       "    <tr>\n",
       "      <th>2019</th>\n",
       "      <td>1</td>\n",
       "      <td>lightning-rod-suspension</td>\n",
       "      <td>lightning-rod-suspension/train/rust/02-06-2021...</td>\n",
       "      <td>1</td>\n",
       "      <td>rust</td>\n",
       "      <td>3</td>\n",
       "    </tr>\n",
       "    <tr>\n",
       "      <th>2020</th>\n",
       "      <td>1</td>\n",
       "      <td>lightning-rod-suspension</td>\n",
       "      <td>lightning-rod-suspension/train/rust/15-06-2021...</td>\n",
       "      <td>1</td>\n",
       "      <td>rust</td>\n",
       "      <td>3</td>\n",
       "    </tr>\n",
       "    <tr>\n",
       "      <th>2021</th>\n",
       "      <td>1</td>\n",
       "      <td>lightning-rod-suspension</td>\n",
       "      <td>lightning-rod-suspension/train/rust/01-06-2021...</td>\n",
       "      <td>1</td>\n",
       "      <td>rust</td>\n",
       "      <td>3</td>\n",
       "    </tr>\n",
       "    <tr>\n",
       "      <th>2022</th>\n",
       "      <td>1</td>\n",
       "      <td>lightning-rod-suspension</td>\n",
       "      <td>lightning-rod-suspension/train/rust/08-06-2021...</td>\n",
       "      <td>1</td>\n",
       "      <td>rust</td>\n",
       "      <td>3</td>\n",
       "    </tr>\n",
       "    <tr>\n",
       "      <th>2023</th>\n",
       "      <td>1</td>\n",
       "      <td>lightning-rod-suspension</td>\n",
       "      <td>lightning-rod-suspension/train/rust/08-06-2021...</td>\n",
       "      <td>1</td>\n",
       "      <td>rust</td>\n",
       "      <td>3</td>\n",
       "    </tr>\n",
       "  </tbody>\n",
       "</table>\n",
       "</div>"
      ]
     },
     "execution_count": 114,
     "metadata": {},
     "output_type": "execute_result"
    }
   ],
   "execution_count": 114
  },
  {
   "metadata": {
    "ExecuteTime": {
     "end_time": "2025-05-13T07:07:56.004170Z",
     "start_time": "2025-05-13T07:07:55.985746Z"
    }
   },
   "cell_type": "code",
   "source": [
    "name = \"polymer-insulator-upper-shackle\"\n",
    "\n",
    "df.loc[\n",
    "    (df['category'] == 'polymer-insulator-upper-shackle') & (df['status_binary'] == 0),\n",
    "    ['status_code', 'status_name']\n",
    "] = [4, 'good']\n",
    "\n",
    "df.loc[\n",
    "    (df['category'] == \"polymer-insulator-upper-shackle\") & (df['status_binary'] == 1),\n",
    "    ['status_code', 'status_name']\n",
    "] = [5, 'rust']\n",
    "\n",
    "df[(df['category'] == \"polymer-insulator-upper-shackle\") & (df['status_binary'] == 1)].head(5)"
   ],
   "id": "720bb513ac772728",
   "outputs": [
    {
     "data": {
      "text/plain": [
       "      category_code                         category  \\\n",
       "3122              2  polymer-insulator-upper-shackle   \n",
       "3123              2  polymer-insulator-upper-shackle   \n",
       "3124              2  polymer-insulator-upper-shackle   \n",
       "3125              2  polymer-insulator-upper-shackle   \n",
       "3126              2  polymer-insulator-upper-shackle   \n",
       "\n",
       "                                             image_path status_binary  \\\n",
       "3122  polymer-insulator-upper-shackle/train/rust/09-...             1   \n",
       "3123  polymer-insulator-upper-shackle/train/rust/02-...             1   \n",
       "3124  polymer-insulator-upper-shackle/train/rust/01-...             1   \n",
       "3125  polymer-insulator-upper-shackle/train/rust/09-...             1   \n",
       "3126  polymer-insulator-upper-shackle/train/rust/08-...             1   \n",
       "\n",
       "     status_name  status_code  \n",
       "3122        rust            5  \n",
       "3123        rust            5  \n",
       "3124        rust            5  \n",
       "3125        rust            5  \n",
       "3126        rust            5  "
      ],
      "text/html": [
       "<div>\n",
       "<style scoped>\n",
       "    .dataframe tbody tr th:only-of-type {\n",
       "        vertical-align: middle;\n",
       "    }\n",
       "\n",
       "    .dataframe tbody tr th {\n",
       "        vertical-align: top;\n",
       "    }\n",
       "\n",
       "    .dataframe thead th {\n",
       "        text-align: right;\n",
       "    }\n",
       "</style>\n",
       "<table border=\"1\" class=\"dataframe\">\n",
       "  <thead>\n",
       "    <tr style=\"text-align: right;\">\n",
       "      <th></th>\n",
       "      <th>category_code</th>\n",
       "      <th>category</th>\n",
       "      <th>image_path</th>\n",
       "      <th>status_binary</th>\n",
       "      <th>status_name</th>\n",
       "      <th>status_code</th>\n",
       "    </tr>\n",
       "  </thead>\n",
       "  <tbody>\n",
       "    <tr>\n",
       "      <th>3122</th>\n",
       "      <td>2</td>\n",
       "      <td>polymer-insulator-upper-shackle</td>\n",
       "      <td>polymer-insulator-upper-shackle/train/rust/09-...</td>\n",
       "      <td>1</td>\n",
       "      <td>rust</td>\n",
       "      <td>5</td>\n",
       "    </tr>\n",
       "    <tr>\n",
       "      <th>3123</th>\n",
       "      <td>2</td>\n",
       "      <td>polymer-insulator-upper-shackle</td>\n",
       "      <td>polymer-insulator-upper-shackle/train/rust/02-...</td>\n",
       "      <td>1</td>\n",
       "      <td>rust</td>\n",
       "      <td>5</td>\n",
       "    </tr>\n",
       "    <tr>\n",
       "      <th>3124</th>\n",
       "      <td>2</td>\n",
       "      <td>polymer-insulator-upper-shackle</td>\n",
       "      <td>polymer-insulator-upper-shackle/train/rust/01-...</td>\n",
       "      <td>1</td>\n",
       "      <td>rust</td>\n",
       "      <td>5</td>\n",
       "    </tr>\n",
       "    <tr>\n",
       "      <th>3125</th>\n",
       "      <td>2</td>\n",
       "      <td>polymer-insulator-upper-shackle</td>\n",
       "      <td>polymer-insulator-upper-shackle/train/rust/09-...</td>\n",
       "      <td>1</td>\n",
       "      <td>rust</td>\n",
       "      <td>5</td>\n",
       "    </tr>\n",
       "    <tr>\n",
       "      <th>3126</th>\n",
       "      <td>2</td>\n",
       "      <td>polymer-insulator-upper-shackle</td>\n",
       "      <td>polymer-insulator-upper-shackle/train/rust/08-...</td>\n",
       "      <td>1</td>\n",
       "      <td>rust</td>\n",
       "      <td>5</td>\n",
       "    </tr>\n",
       "  </tbody>\n",
       "</table>\n",
       "</div>"
      ]
     },
     "execution_count": 115,
     "metadata": {},
     "output_type": "execute_result"
    }
   ],
   "execution_count": 115
  },
  {
   "metadata": {
    "ExecuteTime": {
     "end_time": "2025-05-13T07:09:31.730507Z",
     "start_time": "2025-05-13T07:09:31.705541Z"
    }
   },
   "cell_type": "code",
   "source": [
    "df.loc[\n",
    "    (df['category'] == 'vari-grip') & (df['status_binary'] == 0),\n",
    "    ['status_code', 'status_name']\n",
    "] = [6, 'good']\n",
    "\n",
    "df.loc[\n",
    "    (df['category'] == 'vari-grip') & (df['status_binary'] == 1),\n",
    "    ['status_code', 'status_name']\n",
    "] = [7, 'rust']\n",
    "\n",
    "df.loc[\n",
    "    (df['category'] == 'vari-grip') & (df['status_binary'] == 2),\n",
    "    ['status_code', 'status_name']\n",
    "] = [8, 'bird-nest']\n",
    "\n",
    "df[(df['category'] == 'vari-grip') & (df['status_binary'] == 2)].head(5)"
   ],
   "id": "c5fe7799349d81f0",
   "outputs": [
    {
     "data": {
      "text/plain": [
       "      category_code   category  \\\n",
       "4801              3  vari-grip   \n",
       "4802              3  vari-grip   \n",
       "4803              3  vari-grip   \n",
       "4804              3  vari-grip   \n",
       "4805              3  vari-grip   \n",
       "\n",
       "                                             image_path status_binary  \\\n",
       "4801  vari-grip/train/bird-nest/15-06-2021_DJI_0016_...             2   \n",
       "4802  vari-grip/train/bird-nest/Fotos 25-11-2020_DJI...             2   \n",
       "4803  vari-grip/train/bird-nest/Fotos 25-11-2020_DJI...             2   \n",
       "4804  vari-grip/train/bird-nest/10-06-2021_DJI_0244_...             2   \n",
       "4805  vari-grip/train/bird-nest/Fotos 20-11-2020_DJI...             2   \n",
       "\n",
       "     status_name  status_code  \n",
       "4801   bird-nest            8  \n",
       "4802   bird-nest            8  \n",
       "4803   bird-nest            8  \n",
       "4804   bird-nest            8  \n",
       "4805   bird-nest            8  "
      ],
      "text/html": [
       "<div>\n",
       "<style scoped>\n",
       "    .dataframe tbody tr th:only-of-type {\n",
       "        vertical-align: middle;\n",
       "    }\n",
       "\n",
       "    .dataframe tbody tr th {\n",
       "        vertical-align: top;\n",
       "    }\n",
       "\n",
       "    .dataframe thead th {\n",
       "        text-align: right;\n",
       "    }\n",
       "</style>\n",
       "<table border=\"1\" class=\"dataframe\">\n",
       "  <thead>\n",
       "    <tr style=\"text-align: right;\">\n",
       "      <th></th>\n",
       "      <th>category_code</th>\n",
       "      <th>category</th>\n",
       "      <th>image_path</th>\n",
       "      <th>status_binary</th>\n",
       "      <th>status_name</th>\n",
       "      <th>status_code</th>\n",
       "    </tr>\n",
       "  </thead>\n",
       "  <tbody>\n",
       "    <tr>\n",
       "      <th>4801</th>\n",
       "      <td>3</td>\n",
       "      <td>vari-grip</td>\n",
       "      <td>vari-grip/train/bird-nest/15-06-2021_DJI_0016_...</td>\n",
       "      <td>2</td>\n",
       "      <td>bird-nest</td>\n",
       "      <td>8</td>\n",
       "    </tr>\n",
       "    <tr>\n",
       "      <th>4802</th>\n",
       "      <td>3</td>\n",
       "      <td>vari-grip</td>\n",
       "      <td>vari-grip/train/bird-nest/Fotos 25-11-2020_DJI...</td>\n",
       "      <td>2</td>\n",
       "      <td>bird-nest</td>\n",
       "      <td>8</td>\n",
       "    </tr>\n",
       "    <tr>\n",
       "      <th>4803</th>\n",
       "      <td>3</td>\n",
       "      <td>vari-grip</td>\n",
       "      <td>vari-grip/train/bird-nest/Fotos 25-11-2020_DJI...</td>\n",
       "      <td>2</td>\n",
       "      <td>bird-nest</td>\n",
       "      <td>8</td>\n",
       "    </tr>\n",
       "    <tr>\n",
       "      <th>4804</th>\n",
       "      <td>3</td>\n",
       "      <td>vari-grip</td>\n",
       "      <td>vari-grip/train/bird-nest/10-06-2021_DJI_0244_...</td>\n",
       "      <td>2</td>\n",
       "      <td>bird-nest</td>\n",
       "      <td>8</td>\n",
       "    </tr>\n",
       "    <tr>\n",
       "      <th>4805</th>\n",
       "      <td>3</td>\n",
       "      <td>vari-grip</td>\n",
       "      <td>vari-grip/train/bird-nest/Fotos 20-11-2020_DJI...</td>\n",
       "      <td>2</td>\n",
       "      <td>bird-nest</td>\n",
       "      <td>8</td>\n",
       "    </tr>\n",
       "  </tbody>\n",
       "</table>\n",
       "</div>"
      ]
     },
     "execution_count": 116,
     "metadata": {},
     "output_type": "execute_result"
    }
   ],
   "execution_count": 116
  },
  {
   "metadata": {
    "ExecuteTime": {
     "end_time": "2025-05-13T07:10:27.948767Z",
     "start_time": "2025-05-13T07:10:27.924693Z"
    }
   },
   "cell_type": "code",
   "source": [
    "df.loc[\n",
    "    (df['category'] == 'yoke-suspension') & (df['status_binary'] == 0),\n",
    "    ['status_code', 'status_name']\n",
    "] = [9, 'good']\n",
    "\n",
    "df.loc[\n",
    "    (df['category'] == \"yoke-suspension\") & (df['status_binary'] == 1),\n",
    "    ['status_code', 'status_name']\n",
    "] = [10, 'rust']\n",
    "\n",
    "df[(df['category'] == \"yoke-suspension\") & (df['status_binary'] == 1)].head(5)"
   ],
   "id": "745881bbcfcda1b",
   "outputs": [
    {
     "data": {
      "text/plain": [
       "       category_code         category  \\\n",
       "11215              4  yoke-suspension   \n",
       "11216              4  yoke-suspension   \n",
       "11217              4  yoke-suspension   \n",
       "11218              4  yoke-suspension   \n",
       "11219              4  yoke-suspension   \n",
       "\n",
       "                                              image_path status_binary  \\\n",
       "11215  yoke-suspension/train/rust/02-06-2021_DJI_0241...             1   \n",
       "11216  yoke-suspension/train/rust/01-06-2021_DJI_0386...             1   \n",
       "11217  yoke-suspension/train/rust/01-06-2021_DJI_0446...             1   \n",
       "11218  yoke-suspension/train/rust/10-06-2021_DJI_0026...             1   \n",
       "11219  yoke-suspension/train/rust/01-06-2021_DJI_0443...             1   \n",
       "\n",
       "      status_name  status_code  \n",
       "11215        rust           10  \n",
       "11216        rust           10  \n",
       "11217        rust           10  \n",
       "11218        rust           10  \n",
       "11219        rust           10  "
      ],
      "text/html": [
       "<div>\n",
       "<style scoped>\n",
       "    .dataframe tbody tr th:only-of-type {\n",
       "        vertical-align: middle;\n",
       "    }\n",
       "\n",
       "    .dataframe tbody tr th {\n",
       "        vertical-align: top;\n",
       "    }\n",
       "\n",
       "    .dataframe thead th {\n",
       "        text-align: right;\n",
       "    }\n",
       "</style>\n",
       "<table border=\"1\" class=\"dataframe\">\n",
       "  <thead>\n",
       "    <tr style=\"text-align: right;\">\n",
       "      <th></th>\n",
       "      <th>category_code</th>\n",
       "      <th>category</th>\n",
       "      <th>image_path</th>\n",
       "      <th>status_binary</th>\n",
       "      <th>status_name</th>\n",
       "      <th>status_code</th>\n",
       "    </tr>\n",
       "  </thead>\n",
       "  <tbody>\n",
       "    <tr>\n",
       "      <th>11215</th>\n",
       "      <td>4</td>\n",
       "      <td>yoke-suspension</td>\n",
       "      <td>yoke-suspension/train/rust/02-06-2021_DJI_0241...</td>\n",
       "      <td>1</td>\n",
       "      <td>rust</td>\n",
       "      <td>10</td>\n",
       "    </tr>\n",
       "    <tr>\n",
       "      <th>11216</th>\n",
       "      <td>4</td>\n",
       "      <td>yoke-suspension</td>\n",
       "      <td>yoke-suspension/train/rust/01-06-2021_DJI_0386...</td>\n",
       "      <td>1</td>\n",
       "      <td>rust</td>\n",
       "      <td>10</td>\n",
       "    </tr>\n",
       "    <tr>\n",
       "      <th>11217</th>\n",
       "      <td>4</td>\n",
       "      <td>yoke-suspension</td>\n",
       "      <td>yoke-suspension/train/rust/01-06-2021_DJI_0446...</td>\n",
       "      <td>1</td>\n",
       "      <td>rust</td>\n",
       "      <td>10</td>\n",
       "    </tr>\n",
       "    <tr>\n",
       "      <th>11218</th>\n",
       "      <td>4</td>\n",
       "      <td>yoke-suspension</td>\n",
       "      <td>yoke-suspension/train/rust/10-06-2021_DJI_0026...</td>\n",
       "      <td>1</td>\n",
       "      <td>rust</td>\n",
       "      <td>10</td>\n",
       "    </tr>\n",
       "    <tr>\n",
       "      <th>11219</th>\n",
       "      <td>4</td>\n",
       "      <td>yoke-suspension</td>\n",
       "      <td>yoke-suspension/train/rust/01-06-2021_DJI_0443...</td>\n",
       "      <td>1</td>\n",
       "      <td>rust</td>\n",
       "      <td>10</td>\n",
       "    </tr>\n",
       "  </tbody>\n",
       "</table>\n",
       "</div>"
      ]
     },
     "execution_count": 117,
     "metadata": {},
     "output_type": "execute_result"
    }
   ],
   "execution_count": 117
  },
  {
   "metadata": {},
   "cell_type": "markdown",
   "source": "## Save classification dataset",
   "id": "529f288e6b0a1a6b"
  },
  {
   "metadata": {
    "ExecuteTime": {
     "end_time": "2025-05-13T07:42:57.094925Z",
     "start_time": "2025-05-13T07:42:57.056187Z"
    }
   },
   "cell_type": "code",
   "source": "df.to_csv(\"labels_with_status_code.csv\", index=False)",
   "id": "2f153e7ad9d8d677",
   "outputs": [],
   "execution_count": 120
  },
  {
   "metadata": {
    "ExecuteTime": {
     "end_time": "2025-05-13T07:46:43.885443Z",
     "start_time": "2025-05-13T07:46:43.879888Z"
    }
   },
   "cell_type": "code",
   "source": [
    "filename = \"labels_with_status_code.csv\"\n",
    "\n",
    "if os.path.exists(filename):\n",
    "    print(f\"✅ File saved: {filename}\")\n",
    "else:\n",
    "    print(\"❌ File not saved.\")"
   ],
   "id": "673a029350f145d",
   "outputs": [
    {
     "name": "stdout",
     "output_type": "stream",
     "text": [
      "✅ File saved: labels_with_status_code.csv\n"
     ]
    }
   ],
   "execution_count": 121
  }
 ],
 "metadata": {
  "kernelspec": {
   "display_name": "Python 3",
   "language": "python",
   "name": "python3"
  },
  "language_info": {
   "codemirror_mode": {
    "name": "ipython",
    "version": 2
   },
   "file_extension": ".py",
   "mimetype": "text/x-python",
   "name": "python",
   "nbconvert_exporter": "python",
   "pygments_lexer": "ipython2",
   "version": "2.7.6"
  }
 },
 "nbformat": 4,
 "nbformat_minor": 5
}
