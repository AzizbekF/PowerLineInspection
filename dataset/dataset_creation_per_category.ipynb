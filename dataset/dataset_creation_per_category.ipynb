{
 "cells": [
  {
   "cell_type": "code",
   "id": "initial_id",
   "metadata": {
    "collapsed": true,
    "ExecuteTime": {
     "end_time": "2025-05-14T05:03:36.907370Z",
     "start_time": "2025-05-14T05:03:36.882717Z"
    }
   },
   "source": [
    "import os\n",
    "import pandas as pd\n",
    "\n",
    "\n",
    "df = pd.read_csv('image_labels_with_code.csv')\n",
    "df.head()"
   ],
   "outputs": [
    {
     "data": {
      "text/plain": [
       "   category_code         category  \\\n",
       "0              0  glass-insulator   \n",
       "1              0  glass-insulator   \n",
       "2              0  glass-insulator   \n",
       "3              0  glass-insulator   \n",
       "4              0  glass-insulator   \n",
       "\n",
       "                                          image_path  status  \n",
       "0  glass-insulator/train/good/Fotos 16-11-2020_DJ...       0  \n",
       "1  glass-insulator/train/good/Fotos 25-11-2020_DJ...       0  \n",
       "2  glass-insulator/train/good/Fotos 04-12-2020_DJ...       0  \n",
       "3  glass-insulator/train/good/Fotos 30-11-2020_DJ...       0  \n",
       "4  glass-insulator/train/good/Fotos 04-12-2020_DJ...       0  "
      ],
      "text/html": [
       "<div>\n",
       "<style scoped>\n",
       "    .dataframe tbody tr th:only-of-type {\n",
       "        vertical-align: middle;\n",
       "    }\n",
       "\n",
       "    .dataframe tbody tr th {\n",
       "        vertical-align: top;\n",
       "    }\n",
       "\n",
       "    .dataframe thead th {\n",
       "        text-align: right;\n",
       "    }\n",
       "</style>\n",
       "<table border=\"1\" class=\"dataframe\">\n",
       "  <thead>\n",
       "    <tr style=\"text-align: right;\">\n",
       "      <th></th>\n",
       "      <th>category_code</th>\n",
       "      <th>category</th>\n",
       "      <th>image_path</th>\n",
       "      <th>status</th>\n",
       "    </tr>\n",
       "  </thead>\n",
       "  <tbody>\n",
       "    <tr>\n",
       "      <th>0</th>\n",
       "      <td>0</td>\n",
       "      <td>glass-insulator</td>\n",
       "      <td>glass-insulator/train/good/Fotos 16-11-2020_DJ...</td>\n",
       "      <td>0</td>\n",
       "    </tr>\n",
       "    <tr>\n",
       "      <th>1</th>\n",
       "      <td>0</td>\n",
       "      <td>glass-insulator</td>\n",
       "      <td>glass-insulator/train/good/Fotos 25-11-2020_DJ...</td>\n",
       "      <td>0</td>\n",
       "    </tr>\n",
       "    <tr>\n",
       "      <th>2</th>\n",
       "      <td>0</td>\n",
       "      <td>glass-insulator</td>\n",
       "      <td>glass-insulator/train/good/Fotos 04-12-2020_DJ...</td>\n",
       "      <td>0</td>\n",
       "    </tr>\n",
       "    <tr>\n",
       "      <th>3</th>\n",
       "      <td>0</td>\n",
       "      <td>glass-insulator</td>\n",
       "      <td>glass-insulator/train/good/Fotos 30-11-2020_DJ...</td>\n",
       "      <td>0</td>\n",
       "    </tr>\n",
       "    <tr>\n",
       "      <th>4</th>\n",
       "      <td>0</td>\n",
       "      <td>glass-insulator</td>\n",
       "      <td>glass-insulator/train/good/Fotos 04-12-2020_DJ...</td>\n",
       "      <td>0</td>\n",
       "    </tr>\n",
       "  </tbody>\n",
       "</table>\n",
       "</div>"
      ]
     },
     "execution_count": 4,
     "metadata": {},
     "output_type": "execute_result"
    }
   ],
   "execution_count": 4
  },
  {
   "metadata": {},
   "cell_type": "markdown",
   "source": "# Glass insulator",
   "id": "58922d454e06cc45"
  },
  {
   "metadata": {
    "ExecuteTime": {
     "end_time": "2025-05-14T05:06:32.393808Z",
     "start_time": "2025-05-14T05:06:32.389530Z"
    }
   },
   "cell_type": "code",
   "source": [
    "df_glass = df[df[\"category_code\"] == 0]\n",
    "print(df_glass.shape)\n",
    "print(df_glass[df_glass[\"status\"] == 0].shape)"
   ],
   "id": "8985a783e551f03e",
   "outputs": [
    {
     "name": "stdout",
     "output_type": "stream",
     "text": [
      "(1440, 4)\n",
      "(720, 4)\n"
     ]
    }
   ],
   "execution_count": 11
  },
  {
   "metadata": {},
   "cell_type": "code",
   "outputs": [],
   "execution_count": null,
   "source": "",
   "id": "5fd20ca19c384cea"
  }
 ],
 "metadata": {
  "kernelspec": {
   "display_name": "Python 3",
   "language": "python",
   "name": "python3"
  },
  "language_info": {
   "codemirror_mode": {
    "name": "ipython",
    "version": 2
   },
   "file_extension": ".py",
   "mimetype": "text/x-python",
   "name": "python",
   "nbconvert_exporter": "python",
   "pygments_lexer": "ipython2",
   "version": "2.7.6"
  }
 },
 "nbformat": 4,
 "nbformat_minor": 5
}
